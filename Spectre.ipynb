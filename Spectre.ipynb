{
 "cells": [
  {
   "cell_type": "markdown",
   "id": "bc8ca435",
   "metadata": {},
   "source": [
    "### Spectre Imaging ###\n",
    "\n",
    "---"
   ]
  },
  {
   "cell_type": "code",
   "execution_count": 1,
   "id": "1ae2676a",
   "metadata": {},
   "outputs": [],
   "source": [
    "import pandas as pd"
   ]
  },
  {
   "cell_type": "markdown",
   "id": "6476d9c5",
   "metadata": {},
   "source": [
    "### Spectre ###\n",
    "\n",
    "---\n",
    "\n",
    "Steps to follow:\n",
    "\n",
    "- Determine overhead amount\n",
    "- Identify the allocation base: revenues\n",
    "- Allocate to product lines\n",
    "\n",
    "--\n",
    "\n",
    "**Determine overhead amount for each quarter:**"
   ]
  },
  {
   "cell_type": "code",
   "execution_count": 2,
   "id": "4079ffc4",
   "metadata": {},
   "outputs": [],
   "source": [
    "last_oh = 320\n",
    "this_oh = 370"
   ]
  },
  {
   "cell_type": "markdown",
   "id": "6df31308",
   "metadata": {},
   "source": [
    "---\n",
    "\n",
    "**Last quarter data**\n"
   ]
  },
  {
   "cell_type": "code",
   "execution_count": 3,
   "id": "3ff8b2aa",
   "metadata": {},
   "outputs": [
    {
     "data": {
      "text/html": [
       "<div>\n",
       "<style scoped>\n",
       "    .dataframe tbody tr th:only-of-type {\n",
       "        vertical-align: middle;\n",
       "    }\n",
       "\n",
       "    .dataframe tbody tr th {\n",
       "        vertical-align: top;\n",
       "    }\n",
       "\n",
       "    .dataframe thead th {\n",
       "        text-align: right;\n",
       "    }\n",
       "</style>\n",
       "<table border=\"1\" class=\"dataframe\">\n",
       "  <thead>\n",
       "    <tr style=\"text-align: right;\">\n",
       "      <th></th>\n",
       "      <th>Hardware</th>\n",
       "      <th>Software</th>\n",
       "      <th>Total</th>\n",
       "    </tr>\n",
       "  </thead>\n",
       "  <tbody>\n",
       "    <tr>\n",
       "      <th>Revenues</th>\n",
       "      <td>500</td>\n",
       "      <td>700</td>\n",
       "      <td>1200</td>\n",
       "    </tr>\n",
       "    <tr>\n",
       "      <th>DivisionExpenses</th>\n",
       "      <td>315</td>\n",
       "      <td>308</td>\n",
       "      <td>623</td>\n",
       "    </tr>\n",
       "  </tbody>\n",
       "</table>\n",
       "</div>"
      ],
      "text/plain": [
       "                  Hardware  Software  Total\n",
       "Revenues               500       700   1200\n",
       "DivisionExpenses       315       308    623"
      ]
     },
     "execution_count": 3,
     "metadata": {},
     "output_type": "execute_result"
    }
   ],
   "source": [
    "last_qtr = pd.DataFrame(data = {'Revenues':[500, 700], 'DivisionExpenses':[315, 308]}, index = ['Hardware' , 'Software']).T\n",
    "last_qtr = last_qtr.assign(Total = last_qtr.sum(axis = 1))\n",
    "last_qtr"
   ]
  },
  {
   "cell_type": "markdown",
   "id": "f80a4899",
   "metadata": {},
   "source": [
    "**Allocation based on Total Revenues:**"
   ]
  },
  {
   "cell_type": "code",
   "execution_count": 4,
   "id": "fe62119b",
   "metadata": {},
   "outputs": [
    {
     "data": {
      "text/html": [
       "<div>\n",
       "<style scoped>\n",
       "    .dataframe tbody tr th:only-of-type {\n",
       "        vertical-align: middle;\n",
       "    }\n",
       "\n",
       "    .dataframe tbody tr th {\n",
       "        vertical-align: top;\n",
       "    }\n",
       "\n",
       "    .dataframe thead th {\n",
       "        text-align: right;\n",
       "    }\n",
       "</style>\n",
       "<table border=\"1\" class=\"dataframe\">\n",
       "  <thead>\n",
       "    <tr style=\"text-align: right;\">\n",
       "      <th></th>\n",
       "      <th>Hardware</th>\n",
       "      <th>Software</th>\n",
       "    </tr>\n",
       "  </thead>\n",
       "  <tbody>\n",
       "    <tr>\n",
       "      <th>Revenues</th>\n",
       "      <td>0.416667</td>\n",
       "      <td>0.583333</td>\n",
       "    </tr>\n",
       "    <tr>\n",
       "      <th>DivisionExpenses</th>\n",
       "      <td>0.505618</td>\n",
       "      <td>0.494382</td>\n",
       "    </tr>\n",
       "  </tbody>\n",
       "</table>\n",
       "</div>"
      ],
      "text/plain": [
       "                  Hardware  Software\n",
       "Revenues          0.416667  0.583333\n",
       "DivisionExpenses  0.505618  0.494382"
      ]
     },
     "execution_count": 4,
     "metadata": {},
     "output_type": "execute_result"
    }
   ],
   "source": [
    "last_alloc  = last_qtr[['Hardware', 'Software']].div(last_qtr['Total'], axis = 0)\n",
    "last_alloc"
   ]
  },
  {
   "cell_type": "code",
   "execution_count": 5,
   "id": "a81fd7b5",
   "metadata": {},
   "outputs": [
    {
     "name": "stdout",
     "output_type": "stream",
     "text": [
      "Use the percentages from above to allocate $320\n"
     ]
    },
    {
     "data": {
      "text/html": [
       "<div>\n",
       "<style scoped>\n",
       "    .dataframe tbody tr th:only-of-type {\n",
       "        vertical-align: middle;\n",
       "    }\n",
       "\n",
       "    .dataframe tbody tr th {\n",
       "        vertical-align: top;\n",
       "    }\n",
       "\n",
       "    .dataframe thead th {\n",
       "        text-align: right;\n",
       "    }\n",
       "</style>\n",
       "<table border=\"1\" class=\"dataframe\">\n",
       "  <thead>\n",
       "    <tr style=\"text-align: right;\">\n",
       "      <th></th>\n",
       "      <th>Hardware</th>\n",
       "      <th>Software</th>\n",
       "    </tr>\n",
       "  </thead>\n",
       "  <tbody>\n",
       "    <tr>\n",
       "      <th>Overhead</th>\n",
       "      <td>133.333333</td>\n",
       "      <td>186.666667</td>\n",
       "    </tr>\n",
       "  </tbody>\n",
       "</table>\n",
       "</div>"
      ],
      "text/plain": [
       "            Hardware    Software\n",
       "Overhead  133.333333  186.666667"
      ]
     },
     "execution_count": 5,
     "metadata": {},
     "output_type": "execute_result"
    }
   ],
   "source": [
    "print(f'Use the percentages from above to allocate ${last_oh}')\n",
    "last_alloc = last_alloc.loc['Revenues'].to_frame().T*last_oh\n",
    "last_alloc.index = ['Overhead']\n",
    "last_alloc"
   ]
  },
  {
   "cell_type": "code",
   "execution_count": 6,
   "id": "c23460a6",
   "metadata": {},
   "outputs": [
    {
     "data": {
      "text/html": [
       "<div>\n",
       "<style scoped>\n",
       "    .dataframe tbody tr th:only-of-type {\n",
       "        vertical-align: middle;\n",
       "    }\n",
       "\n",
       "    .dataframe tbody tr th {\n",
       "        vertical-align: top;\n",
       "    }\n",
       "\n",
       "    .dataframe thead th {\n",
       "        text-align: right;\n",
       "    }\n",
       "</style>\n",
       "<table border=\"1\" class=\"dataframe\">\n",
       "  <thead>\n",
       "    <tr style=\"text-align: right;\">\n",
       "      <th></th>\n",
       "      <th>Revenues</th>\n",
       "      <th>DivisionExpenses</th>\n",
       "      <th>Overhead</th>\n",
       "    </tr>\n",
       "  </thead>\n",
       "  <tbody>\n",
       "    <tr>\n",
       "      <th>Hardware</th>\n",
       "      <td>500.0</td>\n",
       "      <td>315.0</td>\n",
       "      <td>133.333333</td>\n",
       "    </tr>\n",
       "    <tr>\n",
       "      <th>Software</th>\n",
       "      <td>700.0</td>\n",
       "      <td>308.0</td>\n",
       "      <td>186.666667</td>\n",
       "    </tr>\n",
       "    <tr>\n",
       "      <th>Total</th>\n",
       "      <td>1200.0</td>\n",
       "      <td>623.0</td>\n",
       "      <td>320.000000</td>\n",
       "    </tr>\n",
       "  </tbody>\n",
       "</table>\n",
       "</div>"
      ],
      "text/plain": [
       "          Revenues  DivisionExpenses    Overhead\n",
       "Hardware     500.0             315.0  133.333333\n",
       "Software     700.0             308.0  186.666667\n",
       "Total       1200.0             623.0  320.000000"
      ]
     },
     "execution_count": 6,
     "metadata": {},
     "output_type": "execute_result"
    }
   ],
   "source": [
    "# Add allocation to the first table\n",
    "last_qtr = pd.concat([last_qtr, last_alloc]).T\n",
    "last_qtr = last_qtr.T.assign(Total = last_qtr.T.drop('Total', axis=1).sum(axis = 1)).T\n",
    "last_qtr"
   ]
  },
  {
   "cell_type": "markdown",
   "id": "53da305d",
   "metadata": {},
   "source": [
    "**Determine profit as Revenues minus the sum of Overhead and Division Expenses**"
   ]
  },
  {
   "cell_type": "code",
   "execution_count": 7,
   "id": "f045d3a4",
   "metadata": {
    "scrolled": true
   },
   "outputs": [
    {
     "data": {
      "text/html": [
       "<div>\n",
       "<style scoped>\n",
       "    .dataframe tbody tr th:only-of-type {\n",
       "        vertical-align: middle;\n",
       "    }\n",
       "\n",
       "    .dataframe tbody tr th {\n",
       "        vertical-align: top;\n",
       "    }\n",
       "\n",
       "    .dataframe thead th {\n",
       "        text-align: right;\n",
       "    }\n",
       "</style>\n",
       "<table border=\"1\" class=\"dataframe\">\n",
       "  <thead>\n",
       "    <tr style=\"text-align: right;\">\n",
       "      <th></th>\n",
       "      <th>Revenues</th>\n",
       "      <th>DivisionExpenses</th>\n",
       "      <th>Overhead</th>\n",
       "      <th>Profit</th>\n",
       "    </tr>\n",
       "  </thead>\n",
       "  <tbody>\n",
       "    <tr>\n",
       "      <th>Hardware</th>\n",
       "      <td>500.0</td>\n",
       "      <td>315.0</td>\n",
       "      <td>133.333333</td>\n",
       "      <td>51.666667</td>\n",
       "    </tr>\n",
       "    <tr>\n",
       "      <th>Software</th>\n",
       "      <td>700.0</td>\n",
       "      <td>308.0</td>\n",
       "      <td>186.666667</td>\n",
       "      <td>205.333333</td>\n",
       "    </tr>\n",
       "    <tr>\n",
       "      <th>Total</th>\n",
       "      <td>1200.0</td>\n",
       "      <td>623.0</td>\n",
       "      <td>320.000000</td>\n",
       "      <td>257.000000</td>\n",
       "    </tr>\n",
       "  </tbody>\n",
       "</table>\n",
       "</div>"
      ],
      "text/plain": [
       "          Revenues  DivisionExpenses    Overhead      Profit\n",
       "Hardware     500.0             315.0  133.333333   51.666667\n",
       "Software     700.0             308.0  186.666667  205.333333\n",
       "Total       1200.0             623.0  320.000000  257.000000"
      ]
     },
     "execution_count": 7,
     "metadata": {},
     "output_type": "execute_result"
    }
   ],
   "source": [
    "last_qtr = last_qtr.assign(Profit = last_qtr['Revenues'] - last_qtr[['Overhead', 'DivisionExpenses']].sum(axis=1))\n",
    "last_qtr"
   ]
  },
  {
   "cell_type": "markdown",
   "id": "a15951bc",
   "metadata": {},
   "source": [
    "---\n",
    "\n",
    "**This quarter data**\n"
   ]
  },
  {
   "cell_type": "code",
   "execution_count": 8,
   "id": "5ad1bb4f",
   "metadata": {},
   "outputs": [
    {
     "data": {
      "text/html": [
       "<div>\n",
       "<style scoped>\n",
       "    .dataframe tbody tr th:only-of-type {\n",
       "        vertical-align: middle;\n",
       "    }\n",
       "\n",
       "    .dataframe tbody tr th {\n",
       "        vertical-align: top;\n",
       "    }\n",
       "\n",
       "    .dataframe thead th {\n",
       "        text-align: right;\n",
       "    }\n",
       "</style>\n",
       "<table border=\"1\" class=\"dataframe\">\n",
       "  <thead>\n",
       "    <tr style=\"text-align: right;\">\n",
       "      <th></th>\n",
       "      <th>Hardware</th>\n",
       "      <th>Software</th>\n",
       "      <th>Total</th>\n",
       "    </tr>\n",
       "  </thead>\n",
       "  <tbody>\n",
       "    <tr>\n",
       "      <th>Revenues</th>\n",
       "      <td>510.0</td>\n",
       "      <td>400.0</td>\n",
       "      <td>910.0</td>\n",
       "    </tr>\n",
       "    <tr>\n",
       "      <th>DivisionExpenses</th>\n",
       "      <td>321.3</td>\n",
       "      <td>176.0</td>\n",
       "      <td>497.3</td>\n",
       "    </tr>\n",
       "  </tbody>\n",
       "</table>\n",
       "</div>"
      ],
      "text/plain": [
       "                  Hardware  Software  Total\n",
       "Revenues             510.0     400.0  910.0\n",
       "DivisionExpenses     321.3     176.0  497.3"
      ]
     },
     "execution_count": 8,
     "metadata": {},
     "output_type": "execute_result"
    }
   ],
   "source": [
    "this_qtr = pd.DataFrame(data = {'Revenues':[510, 400], 'DivisionExpenses':[321.3, 176]}, index = ['Hardware' , 'Software']).T\n",
    "this_qtr = this_qtr.assign(Total = this_qtr.sum(axis = 1))\n",
    "this_qtr"
   ]
  },
  {
   "cell_type": "code",
   "execution_count": 9,
   "id": "089ea22f",
   "metadata": {},
   "outputs": [
    {
     "data": {
      "text/html": [
       "<div>\n",
       "<style scoped>\n",
       "    .dataframe tbody tr th:only-of-type {\n",
       "        vertical-align: middle;\n",
       "    }\n",
       "\n",
       "    .dataframe tbody tr th {\n",
       "        vertical-align: top;\n",
       "    }\n",
       "\n",
       "    .dataframe thead th {\n",
       "        text-align: right;\n",
       "    }\n",
       "</style>\n",
       "<table border=\"1\" class=\"dataframe\">\n",
       "  <thead>\n",
       "    <tr style=\"text-align: right;\">\n",
       "      <th></th>\n",
       "      <th>Hardware</th>\n",
       "      <th>Software</th>\n",
       "    </tr>\n",
       "  </thead>\n",
       "  <tbody>\n",
       "    <tr>\n",
       "      <th>Revenues</th>\n",
       "      <td>0.560440</td>\n",
       "      <td>0.439560</td>\n",
       "    </tr>\n",
       "    <tr>\n",
       "      <th>DivisionExpenses</th>\n",
       "      <td>0.646089</td>\n",
       "      <td>0.353911</td>\n",
       "    </tr>\n",
       "  </tbody>\n",
       "</table>\n",
       "</div>"
      ],
      "text/plain": [
       "                  Hardware  Software\n",
       "Revenues          0.560440  0.439560\n",
       "DivisionExpenses  0.646089  0.353911"
      ]
     },
     "execution_count": 9,
     "metadata": {},
     "output_type": "execute_result"
    }
   ],
   "source": [
    "this_alloc  = this_qtr[['Hardware', 'Software']].div(this_qtr['Total'], axis = 0)\n",
    "this_alloc"
   ]
  },
  {
   "cell_type": "markdown",
   "id": "f19e34e6",
   "metadata": {},
   "source": [
    "**Allocation based on revenues**"
   ]
  },
  {
   "cell_type": "code",
   "execution_count": 10,
   "id": "86d95b8c",
   "metadata": {},
   "outputs": [
    {
     "name": "stdout",
     "output_type": "stream",
     "text": [
      "Use the percentages from above to allocate $370\n"
     ]
    },
    {
     "data": {
      "text/html": [
       "<div>\n",
       "<style scoped>\n",
       "    .dataframe tbody tr th:only-of-type {\n",
       "        vertical-align: middle;\n",
       "    }\n",
       "\n",
       "    .dataframe tbody tr th {\n",
       "        vertical-align: top;\n",
       "    }\n",
       "\n",
       "    .dataframe thead th {\n",
       "        text-align: right;\n",
       "    }\n",
       "</style>\n",
       "<table border=\"1\" class=\"dataframe\">\n",
       "  <thead>\n",
       "    <tr style=\"text-align: right;\">\n",
       "      <th></th>\n",
       "      <th>Hardware</th>\n",
       "      <th>Software</th>\n",
       "    </tr>\n",
       "  </thead>\n",
       "  <tbody>\n",
       "    <tr>\n",
       "      <th>Overhead</th>\n",
       "      <td>207.362637</td>\n",
       "      <td>162.637363</td>\n",
       "    </tr>\n",
       "  </tbody>\n",
       "</table>\n",
       "</div>"
      ],
      "text/plain": [
       "            Hardware    Software\n",
       "Overhead  207.362637  162.637363"
      ]
     },
     "execution_count": 10,
     "metadata": {},
     "output_type": "execute_result"
    }
   ],
   "source": [
    "print(f'Use the percentages from above to allocate ${this_oh}')\n",
    "this_alloc = this_alloc.loc['Revenues'].to_frame().T * this_oh\n",
    "this_alloc.index = ['Overhead']\n",
    "this_alloc"
   ]
  },
  {
   "cell_type": "code",
   "execution_count": 11,
   "id": "e325de68",
   "metadata": {},
   "outputs": [
    {
     "data": {
      "text/html": [
       "<div>\n",
       "<style scoped>\n",
       "    .dataframe tbody tr th:only-of-type {\n",
       "        vertical-align: middle;\n",
       "    }\n",
       "\n",
       "    .dataframe tbody tr th {\n",
       "        vertical-align: top;\n",
       "    }\n",
       "\n",
       "    .dataframe thead th {\n",
       "        text-align: right;\n",
       "    }\n",
       "</style>\n",
       "<table border=\"1\" class=\"dataframe\">\n",
       "  <thead>\n",
       "    <tr style=\"text-align: right;\">\n",
       "      <th></th>\n",
       "      <th>Revenues</th>\n",
       "      <th>DivisionExpenses</th>\n",
       "      <th>Overhead</th>\n",
       "    </tr>\n",
       "  </thead>\n",
       "  <tbody>\n",
       "    <tr>\n",
       "      <th>Hardware</th>\n",
       "      <td>510.0</td>\n",
       "      <td>321.3</td>\n",
       "      <td>207.362637</td>\n",
       "    </tr>\n",
       "    <tr>\n",
       "      <th>Software</th>\n",
       "      <td>400.0</td>\n",
       "      <td>176.0</td>\n",
       "      <td>162.637363</td>\n",
       "    </tr>\n",
       "    <tr>\n",
       "      <th>Total</th>\n",
       "      <td>910.0</td>\n",
       "      <td>497.3</td>\n",
       "      <td>370.000000</td>\n",
       "    </tr>\n",
       "  </tbody>\n",
       "</table>\n",
       "</div>"
      ],
      "text/plain": [
       "          Revenues  DivisionExpenses    Overhead\n",
       "Hardware     510.0             321.3  207.362637\n",
       "Software     400.0             176.0  162.637363\n",
       "Total        910.0             497.3  370.000000"
      ]
     },
     "execution_count": 11,
     "metadata": {},
     "output_type": "execute_result"
    }
   ],
   "source": [
    "this_qtr = pd.concat([this_qtr, this_alloc]).T\n",
    "this_qtr = this_qtr.T.assign(Total = this_qtr.T.drop('Total', axis=1).sum(axis = 1)).T\n",
    "this_qtr"
   ]
  },
  {
   "cell_type": "markdown",
   "id": "b6aa81a5",
   "metadata": {},
   "source": [
    "**Determine profit as revenues minus the sum of Overhead and Division Expenses**"
   ]
  },
  {
   "cell_type": "code",
   "execution_count": 12,
   "id": "bb52cb54",
   "metadata": {},
   "outputs": [
    {
     "data": {
      "text/html": [
       "<div>\n",
       "<style scoped>\n",
       "    .dataframe tbody tr th:only-of-type {\n",
       "        vertical-align: middle;\n",
       "    }\n",
       "\n",
       "    .dataframe tbody tr th {\n",
       "        vertical-align: top;\n",
       "    }\n",
       "\n",
       "    .dataframe thead th {\n",
       "        text-align: right;\n",
       "    }\n",
       "</style>\n",
       "<table border=\"1\" class=\"dataframe\">\n",
       "  <thead>\n",
       "    <tr style=\"text-align: right;\">\n",
       "      <th></th>\n",
       "      <th>Revenues</th>\n",
       "      <th>DivisionExpenses</th>\n",
       "      <th>Overhead</th>\n",
       "      <th>Profit</th>\n",
       "    </tr>\n",
       "  </thead>\n",
       "  <tbody>\n",
       "    <tr>\n",
       "      <th>Hardware</th>\n",
       "      <td>510.0</td>\n",
       "      <td>321.3</td>\n",
       "      <td>207.362637</td>\n",
       "      <td>-18.662637</td>\n",
       "    </tr>\n",
       "    <tr>\n",
       "      <th>Software</th>\n",
       "      <td>400.0</td>\n",
       "      <td>176.0</td>\n",
       "      <td>162.637363</td>\n",
       "      <td>61.362637</td>\n",
       "    </tr>\n",
       "    <tr>\n",
       "      <th>Total</th>\n",
       "      <td>910.0</td>\n",
       "      <td>497.3</td>\n",
       "      <td>370.000000</td>\n",
       "      <td>42.700000</td>\n",
       "    </tr>\n",
       "  </tbody>\n",
       "</table>\n",
       "</div>"
      ],
      "text/plain": [
       "          Revenues  DivisionExpenses    Overhead     Profit\n",
       "Hardware     510.0             321.3  207.362637 -18.662637\n",
       "Software     400.0             176.0  162.637363  61.362637\n",
       "Total        910.0             497.3  370.000000  42.700000"
      ]
     },
     "execution_count": 12,
     "metadata": {},
     "output_type": "execute_result"
    }
   ],
   "source": [
    "this_qtr = this_qtr.assign(Profit = this_qtr['Revenues'] - this_qtr[['Overhead', 'DivisionExpenses']].sum(axis=1))\n",
    "this_qtr"
   ]
  },
  {
   "cell_type": "markdown",
   "id": "9f5915e0",
   "metadata": {},
   "source": [
    "Compare to last quarter:"
   ]
  },
  {
   "cell_type": "code",
   "execution_count": 13,
   "id": "b5e7e0de",
   "metadata": {},
   "outputs": [
    {
     "data": {
      "text/html": [
       "<div>\n",
       "<style scoped>\n",
       "    .dataframe tbody tr th:only-of-type {\n",
       "        vertical-align: middle;\n",
       "    }\n",
       "\n",
       "    .dataframe tbody tr th {\n",
       "        vertical-align: top;\n",
       "    }\n",
       "\n",
       "    .dataframe thead th {\n",
       "        text-align: right;\n",
       "    }\n",
       "</style>\n",
       "<table border=\"1\" class=\"dataframe\">\n",
       "  <thead>\n",
       "    <tr style=\"text-align: right;\">\n",
       "      <th></th>\n",
       "      <th>Revenues</th>\n",
       "      <th>DivisionExpenses</th>\n",
       "      <th>Overhead</th>\n",
       "      <th>Profit</th>\n",
       "    </tr>\n",
       "  </thead>\n",
       "  <tbody>\n",
       "    <tr>\n",
       "      <th>Hardware</th>\n",
       "      <td>500.0</td>\n",
       "      <td>315.0</td>\n",
       "      <td>133.333333</td>\n",
       "      <td>51.666667</td>\n",
       "    </tr>\n",
       "    <tr>\n",
       "      <th>Software</th>\n",
       "      <td>700.0</td>\n",
       "      <td>308.0</td>\n",
       "      <td>186.666667</td>\n",
       "      <td>205.333333</td>\n",
       "    </tr>\n",
       "    <tr>\n",
       "      <th>Total</th>\n",
       "      <td>1200.0</td>\n",
       "      <td>623.0</td>\n",
       "      <td>320.000000</td>\n",
       "      <td>257.000000</td>\n",
       "    </tr>\n",
       "  </tbody>\n",
       "</table>\n",
       "</div>"
      ],
      "text/plain": [
       "          Revenues  DivisionExpenses    Overhead      Profit\n",
       "Hardware     500.0             315.0  133.333333   51.666667\n",
       "Software     700.0             308.0  186.666667  205.333333\n",
       "Total       1200.0             623.0  320.000000  257.000000"
      ]
     },
     "execution_count": 13,
     "metadata": {},
     "output_type": "execute_result"
    }
   ],
   "source": [
    "last_qtr"
   ]
  },
  {
   "cell_type": "markdown",
   "id": "4bfda4d9",
   "metadata": {},
   "source": [
    "As you can see, the  loss in Software's revenues affects the allocation. \n",
    "\n",
    "It makes sense:\n",
    "\n",
    "- **Collaboration**: if Hardware wants a profit, it should help Software. This can be done because it is likely that both divisions empower their employees to collaborate.\n",
    "- **Risk sharing**: what would happen if Software made a profit? Then obviously the manager of Hardware would not complain. So, the allocation system spreads the risks of sales over both departments. This allows both divisions to experiment with new technologies.\n",
    "\n",
    "\n",
    "**Conclusion**: The exercise shows that firms can use the allocation system to encourage collaboration between units, and to take risks. \n",
    "\n",
    "The exercise if from Jerry Zimmerman's Accounting for decision making and control. Zimmerman is from Rochester NY, which once benefited from Kodak and Xerox. "
   ]
  }
 ],
 "metadata": {
  "kernelspec": {
   "display_name": "Python 3 (ipykernel)",
   "language": "python",
   "name": "python3"
  },
  "language_info": {
   "codemirror_mode": {
    "name": "ipython",
    "version": 3
   },
   "file_extension": ".py",
   "mimetype": "text/x-python",
   "name": "python",
   "nbconvert_exporter": "python",
   "pygments_lexer": "ipython3",
   "version": "3.8.13"
  }
 },
 "nbformat": 4,
 "nbformat_minor": 5
}
